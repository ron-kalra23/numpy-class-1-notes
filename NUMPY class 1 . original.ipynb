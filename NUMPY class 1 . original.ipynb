{
 "cells": [
  {
   "cell_type": "code",
   "execution_count": 1,
   "id": "cb8500b4",
   "metadata": {},
   "outputs": [],
   "source": [
    "import numpy as np"
   ]
  },
  {
   "cell_type": "code",
   "execution_count": 2,
   "id": "b4502d9d",
   "metadata": {},
   "outputs": [
    {
     "name": "stdout",
     "output_type": "stream",
     "text": [
      "['ALLOW_THREADS', 'AxisError', 'BUFSIZE', 'Bytes0', 'CLIP', 'ComplexWarning', 'DataSource', 'Datetime64', 'ERR_CALL', 'ERR_DEFAULT', 'ERR_IGNORE', 'ERR_LOG', 'ERR_PRINT', 'ERR_RAISE', 'ERR_WARN', 'FLOATING_POINT_SUPPORT', 'FPE_DIVIDEBYZERO', 'FPE_INVALID', 'FPE_OVERFLOW', 'FPE_UNDERFLOW', 'False_', 'Inf', 'Infinity', 'MAXDIMS', 'MAY_SHARE_BOUNDS', 'MAY_SHARE_EXACT', 'MachAr', 'ModuleDeprecationWarning', 'NAN', 'NINF', 'NZERO', 'NaN', 'PINF', 'PZERO', 'RAISE', 'RankWarning', 'SHIFT_DIVIDEBYZERO', 'SHIFT_INVALID', 'SHIFT_OVERFLOW', 'SHIFT_UNDERFLOW', 'ScalarType', 'Str0', 'Tester', 'TooHardError', 'True_', 'UFUNC_BUFSIZE_DEFAULT', 'UFUNC_PYVALS_NAME', 'Uint64', 'VisibleDeprecationWarning', 'WRAP', '_NoValue', '_UFUNC_API', '__NUMPY_SETUP__', '__all__', '__builtins__', '__cached__', '__config__', '__deprecated_attrs__', '__dir__', '__doc__', '__expired_functions__', '__file__', '__getattr__', '__git_version__', '__loader__', '__mkl_version__', '__name__', '__package__', '__path__', '__spec__', '__version__', '_add_newdoc_ufunc', '_distributor_init', '_financial_names', '_globals', '_mat', '_pytesttester', '_version', 'abs', 'absolute', 'add', 'add_docstring', 'add_newdoc', 'add_newdoc_ufunc', 'alen', 'all', 'allclose', 'alltrue', 'amax', 'amin', 'angle', 'any', 'append', 'apply_along_axis', 'apply_over_axes', 'arange', 'arccos', 'arccosh', 'arcsin', 'arcsinh', 'arctan', 'arctan2', 'arctanh', 'argmax', 'argmin', 'argpartition', 'argsort', 'argwhere', 'around', 'array', 'array2string', 'array_equal', 'array_equiv', 'array_repr', 'array_split', 'array_str', 'asanyarray', 'asarray', 'asarray_chkfinite', 'ascontiguousarray', 'asfarray', 'asfortranarray', 'asmatrix', 'asscalar', 'atleast_1d', 'atleast_2d', 'atleast_3d', 'average', 'bartlett', 'base_repr', 'binary_repr', 'bincount', 'bitwise_and', 'bitwise_not', 'bitwise_or', 'bitwise_xor', 'blackman', 'block', 'bmat', 'bool8', 'bool_', 'broadcast', 'broadcast_arrays', 'broadcast_shapes', 'broadcast_to', 'busday_count', 'busday_offset', 'busdaycalendar', 'byte', 'byte_bounds', 'bytes0', 'bytes_', 'c_', 'can_cast', 'cast', 'cbrt', 'cdouble', 'ceil', 'cfloat', 'char', 'character', 'chararray', 'choose', 'clip', 'clongdouble', 'clongfloat', 'column_stack', 'common_type', 'compare_chararrays', 'compat', 'complex128', 'complex64', 'complex_', 'complexfloating', 'compress', 'concatenate', 'conj', 'conjugate', 'convolve', 'copy', 'copysign', 'copyto', 'core', 'corrcoef', 'correlate', 'cos', 'cosh', 'count_nonzero', 'cov', 'cross', 'csingle', 'ctypeslib', 'cumprod', 'cumproduct', 'cumsum', 'datetime64', 'datetime_as_string', 'datetime_data', 'deg2rad', 'degrees', 'delete', 'deprecate', 'deprecate_with_doc', 'diag', 'diag_indices', 'diag_indices_from', 'diagflat', 'diagonal', 'diff', 'digitize', 'disp', 'divide', 'divmod', 'dot', 'double', 'dsplit', 'dstack', 'dtype', 'e', 'ediff1d', 'einsum', 'einsum_path', 'emath', 'empty', 'empty_like', 'equal', 'errstate', 'euler_gamma', 'exp', 'exp2', 'expand_dims', 'expm1', 'extract', 'eye', 'fabs', 'fastCopyAndTranspose', 'fft', 'fill_diagonal', 'find_common_type', 'finfo', 'fix', 'flatiter', 'flatnonzero', 'flexible', 'flip', 'fliplr', 'flipud', 'float16', 'float32', 'float64', 'float_', 'float_power', 'floating', 'floor', 'floor_divide', 'fmax', 'fmin', 'fmod', 'format_float_positional', 'format_float_scientific', 'format_parser', 'frexp', 'frombuffer', 'fromfile', 'fromfunction', 'fromiter', 'frompyfunc', 'fromregex', 'fromstring', 'full', 'full_like', 'gcd', 'generic', 'genfromtxt', 'geomspace', 'get_array_wrap', 'get_include', 'get_printoptions', 'getbufsize', 'geterr', 'geterrcall', 'geterrobj', 'gradient', 'greater', 'greater_equal', 'half', 'hamming', 'hanning', 'heaviside', 'histogram', 'histogram2d', 'histogram_bin_edges', 'histogramdd', 'hsplit', 'hstack', 'hypot', 'i0', 'identity', 'iinfo', 'imag', 'in1d', 'index_exp', 'indices', 'inexact', 'inf', 'info', 'infty', 'inner', 'insert', 'int0', 'int16', 'int32', 'int64', 'int8', 'int_', 'intc', 'integer', 'interp', 'intersect1d', 'intp', 'invert', 'is_busday', 'isclose', 'iscomplex', 'iscomplexobj', 'isfinite', 'isfortran', 'isin', 'isinf', 'isnan', 'isnat', 'isneginf', 'isposinf', 'isreal', 'isrealobj', 'isscalar', 'issctype', 'issubclass_', 'issubdtype', 'issubsctype', 'iterable', 'ix_', 'kaiser', 'kron', 'lcm', 'ldexp', 'left_shift', 'less', 'less_equal', 'lexsort', 'lib', 'linalg', 'linspace', 'little_endian', 'load', 'loads', 'loadtxt', 'log', 'log10', 'log1p', 'log2', 'logaddexp', 'logaddexp2', 'logical_and', 'logical_not', 'logical_or', 'logical_xor', 'logspace', 'longcomplex', 'longdouble', 'longfloat', 'longlong', 'lookfor', 'ma', 'mafromtxt', 'mask_indices', 'mat', 'math', 'matmul', 'matrix', 'matrixlib', 'max', 'maximum', 'maximum_sctype', 'may_share_memory', 'mean', 'median', 'memmap', 'meshgrid', 'mgrid', 'min', 'min_scalar_type', 'minimum', 'mintypecode', 'mkl', 'mod', 'modf', 'moveaxis', 'msort', 'multiply', 'nan', 'nan_to_num', 'nanargmax', 'nanargmin', 'nancumprod', 'nancumsum', 'nanmax', 'nanmean', 'nanmedian', 'nanmin', 'nanpercentile', 'nanprod', 'nanquantile', 'nanstd', 'nansum', 'nanvar', 'nbytes', 'ndarray', 'ndenumerate', 'ndfromtxt', 'ndim', 'ndindex', 'nditer', 'negative', 'nested_iters', 'newaxis', 'nextafter', 'nonzero', 'not_equal', 'numarray', 'number', 'obj2sctype', 'object0', 'object_', 'ogrid', 'oldnumeric', 'ones', 'ones_like', 'os', 'outer', 'packbits', 'pad', 'partition', 'percentile', 'pi', 'piecewise', 'place', 'poly', 'poly1d', 'polyadd', 'polyder', 'polydiv', 'polyfit', 'polyint', 'polymul', 'polynomial', 'polysub', 'polyval', 'positive', 'power', 'printoptions', 'prod', 'product', 'promote_types', 'ptp', 'put', 'put_along_axis', 'putmask', 'quantile', 'r_', 'rad2deg', 'radians', 'random', 'ravel', 'ravel_multi_index', 'real', 'real_if_close', 'rec', 'recarray', 'recfromcsv', 'recfromtxt', 'reciprocal', 'record', 'remainder', 'repeat', 'require', 'reshape', 'resize', 'result_type', 'right_shift', 'rint', 'roll', 'rollaxis', 'roots', 'rot90', 'round', 'round_', 'row_stack', 's_', 'safe_eval', 'save', 'savetxt', 'savez', 'savez_compressed', 'sctype2char', 'sctypeDict', 'sctypes', 'searchsorted', 'select', 'set_numeric_ops', 'set_printoptions', 'set_string_function', 'setbufsize', 'setdiff1d', 'seterr', 'seterrcall', 'seterrobj', 'setxor1d', 'shape', 'shares_memory', 'short', 'show_config', 'sign', 'signbit', 'signedinteger', 'sin', 'sinc', 'single', 'singlecomplex', 'sinh', 'size', 'sometrue', 'sort', 'sort_complex', 'source', 'spacing', 'split', 'sqrt', 'square', 'squeeze', 'stack', 'std', 'str0', 'str_', 'string_', 'subtract', 'sum', 'swapaxes', 'sys', 'take', 'take_along_axis', 'tan', 'tanh', 'tensordot', 'test', 'testing', 'tile', 'timedelta64', 'trace', 'tracemalloc_domain', 'transpose', 'trapz', 'tri', 'tril', 'tril_indices', 'tril_indices_from', 'trim_zeros', 'triu', 'triu_indices', 'triu_indices_from', 'true_divide', 'trunc', 'typecodes', 'typename', 'ubyte', 'ufunc', 'uint', 'uint0', 'uint16', 'uint32', 'uint64', 'uint8', 'uintc', 'uintp', 'ulonglong', 'unicode_', 'union1d', 'unique', 'unpackbits', 'unravel_index', 'unsignedinteger', 'unwrap', 'use_hugepage', 'ushort', 'vander', 'var', 'vdot', 'vectorize', 'version', 'void', 'void0', 'vsplit', 'vstack', 'warnings', 'where', 'who', 'zeros', 'zeros_like']\n"
     ]
    }
   ],
   "source": [
    "#check all the function in numpy\n",
    "print(dir(np))         # dir stands for directory"
   ]
  },
  {
   "cell_type": "code",
   "execution_count": 3,
   "id": "78a70f5e",
   "metadata": {},
   "outputs": [
    {
     "data": {
      "text/plain": [
       "3.1622776601683795"
      ]
     },
     "execution_count": 3,
     "metadata": {},
     "output_type": "execute_result"
    }
   ],
   "source": [
    "np.sqrt(10)    #sqrt stands for square root"
   ]
  },
  {
   "cell_type": "code",
   "execution_count": 5,
   "id": "ec93e91a",
   "metadata": {},
   "outputs": [
    {
     "name": "stdout",
     "output_type": "stream",
     "text": [
      "minimum - 12\n",
      "maximu - 99\n"
     ]
    }
   ],
   "source": [
    "print('minimum -' , np.amin([12,34,56,78,])) # to know the minimum no in the list\n",
    "print('maximu -' , np.amax([23,45,65,88,99,]))  #to know the maximum no in the list "
   ]
  },
  {
   "cell_type": "code",
   "execution_count": 6,
   "id": "99c5be29",
   "metadata": {},
   "outputs": [
    {
     "data": {
      "text/plain": [
       "35.0"
      ]
     },
     "execution_count": 6,
     "metadata": {},
     "output_type": "execute_result"
    }
   ],
   "source": [
    "#round off to next number \n",
    "np.ceil(34.56)"
   ]
  },
  {
   "cell_type": "code",
   "execution_count": 7,
   "id": "76de64e2",
   "metadata": {},
   "outputs": [
    {
     "data": {
      "text/plain": [
       "4.0"
      ]
     },
     "execution_count": 7,
     "metadata": {},
     "output_type": "execute_result"
    }
   ],
   "source": [
    "np.ceil(np.sqrt(11))  #ceil shows next solid number or integer"
   ]
  },
  {
   "cell_type": "code",
   "execution_count": 10,
   "id": "429f3649",
   "metadata": {},
   "outputs": [
    {
     "data": {
      "text/plain": [
       "10.0"
      ]
     },
     "execution_count": 10,
     "metadata": {},
     "output_type": "execute_result"
    }
   ],
   "source": [
    "np.ceil(np.sum(np.sqrt([5,10,15])))       #this will start work from inner side first eg here it starts work from sqrt then sum"
   ]
  },
  {
   "cell_type": "raw",
   "id": "2019f024",
   "metadata": {},
   "source": [
    "there are a lot of function in numpy but we use only a few in our data science . let us explore them"
   ]
  },
  {
   "cell_type": "code",
   "execution_count": 11,
   "id": "3b2c05db",
   "metadata": {},
   "outputs": [
    {
     "data": {
      "text/plain": [
       "array([ 5,  9, 13])"
      ]
     },
     "execution_count": 11,
     "metadata": {},
     "output_type": "execute_result"
    }
   ],
   "source": [
    "np.array([5,9,13])    # array is a list in the numpy"
   ]
  },
  {
   "cell_type": "code",
   "execution_count": 12,
   "id": "1bfebb30",
   "metadata": {},
   "outputs": [],
   "source": [
    "xyz = np.array([5,9,13]) # assigning variable to array"
   ]
  },
  {
   "cell_type": "code",
   "execution_count": 13,
   "id": "711b2cbb",
   "metadata": {},
   "outputs": [
    {
     "data": {
      "text/plain": [
       "array([ 5,  9, 13])"
      ]
     },
     "execution_count": 13,
     "metadata": {},
     "output_type": "execute_result"
    }
   ],
   "source": [
    "xyz"
   ]
  },
  {
   "cell_type": "code",
   "execution_count": 14,
   "id": "59d0c963",
   "metadata": {},
   "outputs": [
    {
     "data": {
      "text/plain": [
       "numpy.ndarray"
      ]
     },
     "execution_count": 14,
     "metadata": {},
     "output_type": "execute_result"
    }
   ],
   "source": [
    "type(xyz)  # nd means n dimesional"
   ]
  },
  {
   "cell_type": "code",
   "execution_count": 15,
   "id": "5a29752b",
   "metadata": {},
   "outputs": [],
   "source": [
    "#copy array into another variable\n",
    "b = np.asarray(xyz)"
   ]
  },
  {
   "cell_type": "code",
   "execution_count": 16,
   "id": "fce4f367",
   "metadata": {},
   "outputs": [
    {
     "data": {
      "text/plain": [
       "array([ 5,  9, 13])"
      ]
     },
     "execution_count": 16,
     "metadata": {},
     "output_type": "execute_result"
    }
   ],
   "source": [
    "b"
   ]
  },
  {
   "cell_type": "code",
   "execution_count": 17,
   "id": "4eadc546",
   "metadata": {},
   "outputs": [
    {
     "data": {
      "text/plain": [
       "numpy.ndarray"
      ]
     },
     "execution_count": 17,
     "metadata": {},
     "output_type": "execute_result"
    }
   ],
   "source": [
    "type(b)"
   ]
  },
  {
   "cell_type": "code",
   "execution_count": 26,
   "id": "1d9d911c",
   "metadata": {},
   "outputs": [
    {
     "data": {
      "text/plain": [
       "array([1., 2., 3.])"
      ]
     },
     "execution_count": 26,
     "metadata": {},
     "output_type": "execute_result"
    }
   ],
   "source": [
    "# dtype conversion # we want to covert data(numbers) to float\n",
    "\n",
    "\n",
    "np.array([1,2,3] , dtype = float)"
   ]
  },
  {
   "cell_type": "code",
   "execution_count": 22,
   "id": "2a753aac",
   "metadata": {},
   "outputs": [
    {
     "name": "stdout",
     "output_type": "stream",
     "text": [
      "[ 5  9 13]\n"
     ]
    }
   ],
   "source": [
    "print(xyz)   # if we will print it then it will only print data"
   ]
  },
  {
   "cell_type": "markdown",
   "id": "58d52260",
   "metadata": {},
   "source": [
    "# DATA types:"
   ]
  },
  {
   "cell_type": "raw",
   "id": "7bb38254",
   "metadata": {},
   "source": [
    "matrix is a combination of rows and column"
   ]
  },
  {
   "cell_type": "code",
   "execution_count": 28,
   "id": "309d42c6",
   "metadata": {},
   "outputs": [
    {
     "name": "stdout",
     "output_type": "stream",
     "text": [
      "type/class of the object- <class 'numpy.ndarray'>\n",
      "here is the matrix :\n",
      "----------\n",
      " [[1 2 3]\n",
      " [4 5 6]\n",
      " [7 8 9]] \n",
      "-----------\n",
      "dimension of the matrix : 2\n",
      "size of the matrix : 9\n",
      "shape of the matrix : (3, 3)\n",
      "datatype of the matrix : int32\n"
     ]
    }
   ],
   "source": [
    "my_mat = ([1,2,3] , [4,5,6] , [7,8,9])\n",
    "mat = np.array(my_mat)\n",
    "print(\"type/class of the object-\" , type(mat)) #gives us the type of matrix\n",
    "print(\"here is the matrix :\\n----------\\n\", mat , \"\\n-----------\" ) #gives us complete matrix \n",
    "print(\"dimension of the matrix :\" , mat.ndim) #ndim gives dimension , 2 for a matrix , 1 for vector\n",
    "print(\"size of the matrix :\" , mat.size) # size gives total number of elements\n",
    "print(\"shape of the matrix :\" , mat.shape) # shape gives total no roes , column\n",
    "print(\"datatype of the matrix :\" , mat.dtype) #datatype is internal number in the matrix that is int ignore the 32"
   ]
  },
  {
   "cell_type": "markdown",
   "id": "fe877037",
   "metadata": {},
   "source": [
    "# arange and linspace"
   ]
  },
  {
   "cell_type": "code",
   "execution_count": 29,
   "id": "72a82fbd",
   "metadata": {},
   "outputs": [],
   "source": [
    "# dont work with python range"
   ]
  },
  {
   "cell_type": "code",
   "execution_count": 32,
   "id": "cec3a436",
   "metadata": {},
   "outputs": [
    {
     "ename": "TypeError",
     "evalue": "'float' object cannot be interpreted as an integer",
     "output_type": "error",
     "traceback": [
      "\u001b[1;31m---------------------------------------------------------------------------\u001b[0m",
      "\u001b[1;31mTypeError\u001b[0m                                 Traceback (most recent call last)",
      "\u001b[1;32m~\\AppData\\Local\\Temp\\ipykernel_13520\\3717793492.py\u001b[0m in \u001b[0;36m<module>\u001b[1;34m\u001b[0m\n\u001b[1;32m----> 1\u001b[1;33m \u001b[0mlist\u001b[0m\u001b[1;33m(\u001b[0m\u001b[0mrange\u001b[0m\u001b[1;33m(\u001b[0m\u001b[1;36m2\u001b[0m\u001b[1;33m,\u001b[0m\u001b[1;36m10.5\u001b[0m\u001b[1;33m,\u001b[0m\u001b[1;36m.4\u001b[0m\u001b[1;33m)\u001b[0m\u001b[1;33m)\u001b[0m\u001b[1;33m\u001b[0m\u001b[1;33m\u001b[0m\u001b[0m\n\u001b[0m",
      "\u001b[1;31mTypeError\u001b[0m: 'float' object cannot be interpreted as an integer"
     ]
    }
   ],
   "source": [
    "list(range(2,10.5,.4))   # range do not work in python"
   ]
  },
  {
   "cell_type": "code",
   "execution_count": 33,
   "id": "a30712e9",
   "metadata": {},
   "outputs": [],
   "source": [
    "a = np.arange(2,10.5,.4)  #to work with float numbers we use numpy"
   ]
  },
  {
   "cell_type": "code",
   "execution_count": 34,
   "id": "1500f201",
   "metadata": {},
   "outputs": [
    {
     "data": {
      "text/plain": [
       "array([ 2. ,  2.4,  2.8,  3.2,  3.6,  4. ,  4.4,  4.8,  5.2,  5.6,  6. ,\n",
       "        6.4,  6.8,  7.2,  7.6,  8. ,  8.4,  8.8,  9.2,  9.6, 10. , 10.4])"
      ]
     },
     "execution_count": 34,
     "metadata": {},
     "output_type": "execute_result"
    }
   ],
   "source": [
    "a"
   ]
  },
  {
   "cell_type": "code",
   "execution_count": 35,
   "id": "597b5620",
   "metadata": {},
   "outputs": [
    {
     "data": {
      "text/plain": [
       "array([10.4, 10. ,  9.6,  9.2,  8.8,  8.4,  8. ,  7.6,  7.2,  6.8,  6.4,\n",
       "        6. ,  5.6,  5.2,  4.8,  4.4,  4. ,  3.6,  3.2,  2.8,  2.4,  2. ])"
      ]
     },
     "execution_count": 35,
     "metadata": {},
     "output_type": "execute_result"
    }
   ],
   "source": [
    "#reverse order\n",
    "a[::-1]"
   ]
  },
  {
   "cell_type": "code",
   "execution_count": 36,
   "id": "60c83161",
   "metadata": {},
   "outputs": [
    {
     "name": "stdout",
     "output_type": "stream",
     "text": [
      "every 5th number from 50 in reverse order\n",
      " [50 45 40 35 30 25 20 15 10  5  0]\n"
     ]
    }
   ],
   "source": [
    "print(\"every 5th number from 50 in reverse order\\n\" , np.arange(50,-1,-5))"
   ]
  },
  {
   "cell_type": "code",
   "execution_count": 37,
   "id": "cb338c7e",
   "metadata": {},
   "outputs": [
    {
     "name": "stdout",
     "output_type": "stream",
     "text": [
      "linearly spaced number near  between 10 and 40\n",
      "-------------------------------------\n",
      "[10.  17.5 25.  32.5 40. ]\n"
     ]
    }
   ],
   "source": [
    "print(\"linearly spaced number near  between 10 and 40\\n-------------------------------------\")\n",
    "print(np.linspace(10,40,5))  #lin means linear space equal distance \n",
    "# 5 means 5 points with equal distance from each other"
   ]
  },
  {
   "cell_type": "code",
   "execution_count": 38,
   "id": "ed1ba66b",
   "metadata": {},
   "outputs": [
    {
     "name": "stdout",
     "output_type": "stream",
     "text": [
      "[10.         21.66666667 33.33333333 45.         56.66666667 68.33333333\n",
      " 80.        ]\n"
     ]
    }
   ],
   "source": [
    "print(np.linspace(10,80,7))  #total no = 7 ,equally spaced between them"
   ]
  },
  {
   "cell_type": "code",
   "execution_count": 39,
   "id": "dd84e5e8",
   "metadata": {},
   "outputs": [
    {
     "name": "stdout",
     "output_type": "stream",
     "text": [
      "[ 10.     15.625  21.25   26.875  32.5    38.125  43.75   49.375  55.\n",
      "  60.625  66.25   71.875  77.5    83.125  88.75   94.375 100.   ]\n"
     ]
    }
   ],
   "source": [
    "print(np.linspace(10,100,17))"
   ]
  },
  {
   "cell_type": "code",
   "execution_count": 40,
   "id": "d68882f2",
   "metadata": {},
   "outputs": [
    {
     "name": "stdout",
     "output_type": "stream",
     "text": [
      "[ 4.56782     5.02236545  5.47691091  5.93145636  6.38600182  6.84054727\n",
      "  7.29509273  7.74963818  8.20418364  8.65872909  9.11327455  9.56782\n",
      " 10.02236545 10.47691091 10.93145636 11.38600182 11.84054727 12.29509273\n",
      " 12.74963818 13.20418364 13.65872909 14.11327455 14.56782    15.02236545\n",
      " 15.47691091 15.93145636 16.38600182 16.84054727 17.29509273 17.74963818\n",
      " 18.20418364 18.65872909 19.11327455 19.56782    20.02236545 20.47691091\n",
      " 20.93145636 21.38600182 21.84054727 22.29509273 22.74963818 23.20418364\n",
      " 23.65872909 24.11327455 24.56782   ]\n"
     ]
    }
   ],
   "source": [
    "print(np.linspace(4.56782,24.56782,45))  # we dont know the difference b/w each no is unknown here thats why we use retstep"
   ]
  },
  {
   "cell_type": "code",
   "execution_count": 42,
   "id": "0e427872",
   "metadata": {},
   "outputs": [
    {
     "data": {
      "text/plain": [
       "(array([2.  , 2.25, 2.5 , 2.75]), 0.25)"
      ]
     },
     "execution_count": 42,
     "metadata": {},
     "output_type": "execute_result"
    }
   ],
   "source": [
    "#include endpoint and check space between them \n",
    "#by default endpoint = true\n",
    "#by default retspace = False\n",
    "np.linspace(2,3,num = 4 , endpoint = False , retstep= True ) # to exclude 3 which is endpoint , endpoint = false \n",
    "# to include difference retstep (difference b/w each number ) , retstep = true"
   ]
  },
  {
   "cell_type": "markdown",
   "id": "b3a00a28",
   "metadata": {},
   "source": [
    "# matrix creation"
   ]
  },
  {
   "cell_type": "code",
   "execution_count": 44,
   "id": "254b4a43",
   "metadata": {},
   "outputs": [
    {
     "name": "stdout",
     "output_type": "stream",
     "text": [
      "vectors of zero\n",
      "---------------------\n",
      "[0. 0. 0. 0. 0.]\n"
     ]
    }
   ],
   "source": [
    "print(\"vectors of zero\\n---------------------\")\n",
    "print(np.zeros(5))"
   ]
  },
  {
   "cell_type": "code",
   "execution_count": 46,
   "id": "85d26722",
   "metadata": {},
   "outputs": [
    {
     "name": "stdout",
     "output_type": "stream",
     "text": [
      "matrix ofzero\n",
      "---------------------------\n",
      "[[0. 0. 0. 0. 0. 0.]\n",
      " [0. 0. 0. 0. 0. 0.]\n",
      " [0. 0. 0. 0. 0. 0.]\n",
      " [0. 0. 0. 0. 0. 0.]\n",
      " [0. 0. 0. 0. 0. 0.]]\n"
     ]
    }
   ],
   "source": [
    "print(\"matrix ofzero\\n---------------------------\")\n",
    "print(np.zeros((5,6))) #(5,6) is the shape dimension of matrix , rows and column , 5 rows 6 column"
   ]
  },
  {
   "cell_type": "code",
   "execution_count": 47,
   "id": "fd902bdc",
   "metadata": {},
   "outputs": [
    {
     "name": "stdout",
     "output_type": "stream",
     "text": [
      "matrix ofzero\n",
      "---------------------------\n",
      "[[1. 1. 1. 1. 1. 1.]\n",
      " [1. 1. 1. 1. 1. 1.]\n",
      " [1. 1. 1. 1. 1. 1.]\n",
      " [1. 1. 1. 1. 1. 1.]\n",
      " [1. 1. 1. 1. 1. 1.]]\n"
     ]
    }
   ],
   "source": [
    "print(\"matrix ofzero\\n---------------------------\")\n",
    "print(np.ones((5,6))) #note matrix dimension specified by tuples"
   ]
  },
  {
   "cell_type": "code",
   "execution_count": 48,
   "id": "9eb82c08",
   "metadata": {},
   "outputs": [
    {
     "name": "stdout",
     "output_type": "stream",
     "text": [
      "matrix of five\n",
      "--------------------------\n",
      "[[5. 5. 5.]\n",
      " [5. 5. 5.]\n",
      " [5. 5. 5.]\n",
      " [5. 5. 5.]]\n"
     ]
    }
   ],
   "source": [
    "print(\"matrix of five\\n--------------------------\")\n",
    "print( 5 * np.ones ((4,3)))"
   ]
  },
  {
   "cell_type": "code",
   "execution_count": 51,
   "id": "3e73adf1",
   "metadata": {},
   "outputs": [
    {
     "name": "stdout",
     "output_type": "stream",
     "text": [
      "[[ 0  1  2]\n",
      " [ 3  4  5]\n",
      " [ 6  7  8]\n",
      " [ 9 10 11]\n",
      " [12 13 14]\n",
      " [15 16 17]\n",
      " [18 19 20]\n",
      " [21 22 23]\n",
      " [24 25 26]\n",
      " [27 28 29]]\n"
     ]
    }
   ],
   "source": [
    "# construct diagonal matrix\n",
    "x = np.arange(30).reshape(10,3)\n",
    "\n",
    "\n",
    "print(x)"
   ]
  },
  {
   "cell_type": "code",
   "execution_count": 52,
   "id": "f15c84e4",
   "metadata": {},
   "outputs": [
    {
     "name": "stdout",
     "output_type": "stream",
     "text": [
      "[[ 0  1  2  3  4  5]\n",
      " [ 6  7  8  9 10 11]\n",
      " [12 13 14 15 16 17]\n",
      " [18 19 20 21 22 23]\n",
      " [24 25 26 27 28 29]]\n"
     ]
    }
   ],
   "source": [
    "# construct diagonal matrix\n",
    "x = np.arange(30).reshape(5,6)\n",
    "\n",
    "\n",
    "print(x)"
   ]
  },
  {
   "cell_type": "markdown",
   "id": "ec9f538d",
   "metadata": {},
   "source": [
    "# random number generation:"
   ]
  },
  {
   "cell_type": "code",
   "execution_count": 53,
   "id": "2782bd91",
   "metadata": {},
   "outputs": [
    {
     "name": "stdout",
     "output_type": "stream",
     "text": [
      "random number generation(from unifrom distribution)\n",
      "[[0.89286015 0.33197981 0.82122912 0.04169663 0.10765668 0.59505206]\n",
      " [0.52981736 0.41880743 0.33540785 0.62251943 0.43814143 0.73588211]\n",
      " [0.51803641 0.5788586  0.6453551  0.99022427 0.8198582  0.41320093]\n",
      " [0.87626766 0.82375943 0.05447451 0.71863724 0.80217056 0.73640664]\n",
      " [0.70913175 0.54093685 0.12482417 0.9576473  0.4032563  0.21695116]\n",
      " [0.71727585 0.99420744 0.25561406 0.67130943 0.59900591 0.71733215]\n",
      " [0.93734953 0.35180977 0.2536341  0.40247251 0.74651072 0.72407057]\n",
      " [0.4061078  0.98937985 0.45049928 0.37380843 0.70962861 0.08245855]\n",
      " [0.39837292 0.77088097 0.76475098 0.28385938 0.18954219 0.47125096]\n",
      " [0.33480604 0.73473504 0.18910712 0.33110407 0.84422842 0.61502403]]\n"
     ]
    }
   ],
   "source": [
    "np.random.seed(6)      #each seed no will generate similar data.\n",
    "\n",
    "print(\"random number generation(from unifrom distribution)\")\n",
    "\n",
    "print(np.random.rand(10,6)) # seed helps in getting the same data again and again doesn't matter how many times we run the same cell\n",
    "# and why use the 6 here is because every number holds some type of randomness. we can use any number in place of 6"
   ]
  },
  {
   "cell_type": "code",
   "execution_count": 54,
   "id": "b58f9d52",
   "metadata": {},
   "outputs": [
    {
     "name": "stdout",
     "output_type": "stream",
     "text": [
      "random number generation(from unifrom distribution)\n",
      "[[0.70520927 0.70351865 0.29319836 0.76301519 0.35916327 0.52509784]\n",
      " [0.31946636 0.00134285 0.94842794 0.23558152 0.41011829 0.37300443]\n",
      " [0.22178518 0.23243736 0.61787196 0.12932121 0.39207568 0.57143362]\n",
      " [0.23353383 0.75595409 0.4917942  0.93327838 0.56421128 0.08792537]\n",
      " [0.22642318 0.08454764 0.84387775 0.12342299 0.94074404 0.48608003]\n",
      " [0.72891699 0.01624727 0.75172223 0.03066134 0.19533859 0.26522479]\n",
      " [0.3330888  0.67277569 0.72954018 0.0853452  0.67825972 0.12029013]\n",
      " [0.23423637 0.11123627 0.9912454  0.32157218 0.03507554 0.40339873]\n",
      " [0.14711327 0.6484357  0.72073438 0.92262773 0.01425628 0.85924666]\n",
      " [0.61070022 0.22477612 0.737819   0.2677083  0.31352596 0.42954232]]\n"
     ]
    }
   ],
   "source": [
    "np.random.seed(6123)      \n",
    "\n",
    "print(\"random number generation(from unifrom distribution)\")\n",
    "\n",
    "print(np.random.rand(10,6))"
   ]
  },
  {
   "cell_type": "code",
   "execution_count": null,
   "id": "3b358237",
   "metadata": {},
   "outputs": [],
   "source": [
    "#rand = show all positive numbers and the difference between numbers is uniform(means it is less than 1 )\n",
    "\n",
    "#randn  = it will take both neg and positive value.and we avg all the numbers the avg will be close to 0 and it will make shape of bell shaped curve or normal distribution\n",
    "\n",
    "#"
   ]
  },
  {
   "cell_type": "code",
   "execution_count": 55,
   "id": "508540ed",
   "metadata": {},
   "outputs": [
    {
     "name": "stdout",
     "output_type": "stream",
     "text": [
      "random number generation(from unifrom distribution)\n",
      "[[-0.31178367  0.72900392  0.21782079 -0.8990918  -2.48678065  0.91325152]\n",
      " [ 1.12706373 -1.51409323  1.63929108 -0.4298936   2.63128056  0.60182225]\n",
      " [-0.33588161  1.23773784  0.11112817  0.12915125  0.07612761 -0.15512816]\n",
      " [ 0.63422534  0.810655    0.35480861  1.81259031 -1.3564758  -0.46363197]\n",
      " [ 0.82465384 -1.17643148  1.56448966  0.71270509 -0.1810066   0.53419953]\n",
      " [-0.58661296 -1.48185327  0.85724762  0.94309899  0.11444143 -0.02195668]\n",
      " [-2.12714455 -0.83440747 -0.46550831  0.23371059  1.38503523 -0.51962709]\n",
      " [-0.78015214  0.95560959 -0.12673638 -1.36861282  1.21848065 -0.85750144]\n",
      " [-0.56147088 -1.0335199   0.35877096  1.07368134 -0.37550472  0.39636757]\n",
      " [-0.47144628  2.33660781  1.50278553 -0.59545972  0.52834106  0.9398248 ]]\n"
     ]
    }
   ],
   "source": [
    "np.random.seed(6)      #each seed no will generate similar data.\n",
    "\n",
    "print(\"random number generation(from unifrom distribution)\")\n",
    "\n",
    "print(np.random.randn(10,6))"
   ]
  },
  {
   "cell_type": "code",
   "execution_count": 58,
   "id": "3e252fcb",
   "metadata": {},
   "outputs": [
    {
     "name": "stdout",
     "output_type": "stream",
     "text": [
      "numbers from normal distribution with zero mean and standard deviation 1 i.e. standard normal \n",
      "[[-0.31178367  0.72900392  0.21782079 -0.8990918  -2.48678065  0.91325152]\n",
      " [ 1.12706373 -1.51409323  1.63929108 -0.4298936   2.63128056  0.60182225]\n",
      " [-0.33588161  1.23773784  0.11112817  0.12915125  0.07612761 -0.15512816]\n",
      " [ 0.63422534  0.810655    0.35480861  1.81259031 -1.3564758  -0.46363197]\n",
      " [ 0.82465384 -1.17643148  1.56448966  0.71270509 -0.1810066   0.53419953]\n",
      " [-0.58661296 -1.48185327  0.85724762  0.94309899  0.11444143 -0.02195668]\n",
      " [-2.12714455 -0.83440747 -0.46550831  0.23371059  1.38503523 -0.51962709]\n",
      " [-0.78015214  0.95560959 -0.12673638 -1.36861282  1.21848065 -0.85750144]\n",
      " [-0.56147088 -1.0335199   0.35877096  1.07368134 -0.37550472  0.39636757]\n",
      " [-0.47144628  2.33660781  1.50278553 -0.59545972  0.52834106  0.9398248 ]]\n"
     ]
    }
   ],
   "source": [
    "print(\"numbers from normal distribution with zero mean and standard deviation 1 i.e. standard normal \")\n",
    "print(np.random.randn(10,6))"
   ]
  },
  {
   "cell_type": "code",
   "execution_count": 59,
   "id": "dc5a30df",
   "metadata": {},
   "outputs": [
    {
     "name": "stdout",
     "output_type": "stream",
     "text": [
      "random integer vector: [ 61296096 113432865  65820625  45029948 139618099  22185569 150966227\n",
      " 213862618   3661380 129289073 100036358 106672113  97846880 165307916\n",
      "  99751657 110377911   6932701  17215460 177706413 126564434  91150380\n",
      "  39350909  15979349 190466287  55577681   5633330 123680433 204795005\n",
      " 150366036  16223550 137126871 103826434 177668005  27534545 106144499\n",
      "  67677107 234217628  23205275  98570933  21334828  73114336 230347306\n",
      " 227065456 141088387 157232422 131169245  12470762  26204078 217026464\n",
      " 158447160 200608612  43587916 105275888  67244938  62243272 113174349\n",
      " 201025876   2827564   1207215 164902666  74470462 137741928 107524221\n",
      "  44763493 233673500 105655681 142836316 195405220   9611413 179310056\n",
      " 231427018 110193394 185275143  40968177   3833704  59213075 154643993\n",
      "   8291458   1848866 148157118 222035405 183534699 144334531  18758248\n",
      "  53668887  58513510 214925261  13346397  18454478  42880677 216545100\n",
      " 138187003   1186453 139738486  52502637  60708650 206095155 169232478\n",
      " 220856241 199603389]\n"
     ]
    }
   ],
   "source": [
    "print(\"random integer vector:\" , np.random.randint(5,234566772 , 100))\n",
    "#randit = we have to first select our range and total numbers we want and in includes duplicate number"
   ]
  },
  {
   "cell_type": "code",
   "execution_count": 62,
   "id": "f21ec16d",
   "metadata": {},
   "outputs": [
    {
     "name": "stdout",
     "output_type": "stream",
     "text": [
      "\n",
      "random integer matrix\n",
      "[[ 2734 21158 25290   829 17517  6594  1395]\n",
      " [ 7962 21018  5798 12764 19415  9173  6417]\n",
      " [24645 22243 29623 12768 14531 27917 28466]\n",
      " [18992 15887 11359 24475 25578 28403 16705]\n",
      " [18780 18307 15355 11222 24641 15656  8972]\n",
      " [  599  3367 25489    10 16534 12574 19711]]\n"
     ]
    }
   ],
   "source": [
    "print(\"\\nrandom integer matrix\")\n",
    "print(np.random.randint(1,30000 ,(6,7)))  #we are giving shape here(6,7) "
   ]
  },
  {
   "cell_type": "code",
   "execution_count": null,
   "id": "a45852df",
   "metadata": {},
   "outputs": [],
   "source": []
  }
 ],
 "metadata": {
  "kernelspec": {
   "display_name": "Python 3 (ipykernel)",
   "language": "python",
   "name": "python3"
  },
  "language_info": {
   "codemirror_mode": {
    "name": "ipython",
    "version": 3
   },
   "file_extension": ".py",
   "mimetype": "text/x-python",
   "name": "python",
   "nbconvert_exporter": "python",
   "pygments_lexer": "ipython3",
   "version": "3.9.13"
  }
 },
 "nbformat": 4,
 "nbformat_minor": 5
}
